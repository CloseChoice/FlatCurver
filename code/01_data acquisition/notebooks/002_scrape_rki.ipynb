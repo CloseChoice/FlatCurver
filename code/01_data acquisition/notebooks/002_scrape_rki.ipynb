{
 "cells": [
  {
   "cell_type": "markdown",
   "metadata": {
    "ExecuteTime": {
     "end_time": "2020-03-21T06:16:53.709613Z",
     "start_time": "2020-03-21T06:16:53.702216Z"
    }
   },
   "source": [
    "## Scrape Data from Robert Koch Institut\n",
    "https://experience.arcgis.com/experience/478220a4c454480e823b17327b2bf1d4/page/page_0/\n",
    "\n",
    "Note: The RKI API only allows upto 2000 results per request. \n",
    "Therefore it is necessary to filter by country, and e.g. get the deaths and infections separatly. \n",
    "\n",
    "However, it may be necessary to re-adjust this when the case-numbers grow (when there are more than 2000 rows for infections in Bavaria)"
   ]
  },
  {
   "cell_type": "code",
   "execution_count": null,
   "metadata": {
    "ExecuteTime": {
     "end_time": "2020-03-21T06:17:05.505089Z",
     "start_time": "2020-03-21T06:17:01.829116Z"
    }
   },
   "outputs": [],
   "source": [
    "import urllib\n",
    "import json\n",
    "import datetime\n",
    "import pandas"
   ]
  },
  {
   "cell_type": "code",
   "execution_count": null,
   "metadata": {},
   "outputs": [],
   "source": [
    "# Just a list of all countries\n",
    "bundeslaender = [\"Baden-Württemberg\",\"Nordrhein-Westfalen\",\"Bayern\",\"Hessen\",\"Berlin\",\n",
    "                 \"Niedersachsen\",\"Sachsen\",\"Rheinland-Pfalz\",\"Brandenburg\",\"Hamburg\",\"Schleswig-Holstein\"\n",
    "                ,\"Thüringen\",\"Mecklenburg-Vorpommern\",\"Bremen\",\"Saarland\",\"Sachsen-Anhalt\"]"
   ]
  },
  {
   "cell_type": "markdown",
   "metadata": {},
   "source": [
    "## Fetching Infection Numbers\n",
    "\n",
    "This part of the notebook fetches the data of the RKI"
   ]
  },
  {
   "cell_type": "code",
   "execution_count": null,
   "metadata": {},
   "outputs": [],
   "source": [
    "safe_infection_file = True\n",
    "infection_file_name = \"Neuinfektionen_pro_land_pro_tag.csv\""
   ]
  },
  {
   "cell_type": "code",
   "execution_count": null,
   "metadata": {
    "ExecuteTime": {
     "end_time": "2020-03-21T06:18:30.022633Z",
     "start_time": "2020-03-21T06:18:30.011668Z"
    }
   },
   "outputs": [],
   "source": [
    "def fetch_infection_data_from_rki(bundesland:str=\"Hamburg\",offset=0):\n",
    "    \"\"\"\n",
    "    Fetch Covid-19-Cases from \n",
    "    https://experience.arcgis.com/experience/478220a4c454480e823b17327b2bf1d4/page/page_0/\n",
    "    \n",
    "    Args:\n",
    "        bundesland: written like displayed on the website, a string\n",
    "    Returns:\n",
    "        a Dataframe containing all historical infections data of a bundesland\n",
    "    \"\"\"\n",
    "    \n",
    "    url_endpoint = \"https://services7.arcgis.com/mOBPykOjAyBO2ZKk/arcgis/rest/services/RKI_COVID19/FeatureServer/0/query\"\n",
    "    params = {\n",
    "        'f': 'json', \n",
    "        'where': f'Bundesland=\\'{bundesland}\\'',\n",
    "        'returnGeometry': 'false',\n",
    "        'spatialRel': 'esriSpatialRelIntersects',\n",
    "        'outFields': 'ObjectId,AnzahlFall,Meldedatum,Geschlecht,Altersgruppe',\n",
    "        'orderByFields': 'Meldedatum asc',\n",
    "        'resultOffset': offset,\n",
    "        'resultRecordCount': 2000,\n",
    "        'cacheHint': \"true\"    \n",
    "    }\n",
    "\n",
    "    url_query = f\"{url_endpoint}?{urllib.parse.urlencode(params)}\"\n",
    "\n",
    "    with urllib.request.urlopen(url_query) as url:\n",
    "        data = json.loads(url.read().decode())['features']\n",
    "    \n",
    "    data_list = [\n",
    "        (datetime.datetime.fromtimestamp(x['attributes']['Meldedatum'] / 1e3), x['attributes']['AnzahlFall'],x['attributes']['Geschlecht'],x['attributes']['Altersgruppe'],bundesland) \n",
    "        for x in data\n",
    "    ]\n",
    "    \n",
    "    df = pandas.DataFrame(data_list, columns=['Meldedatum', 'Neuinfektionen', 'Geschlecht','Altersgruppe','Bundesland'])\n",
    "\n",
    "    if len(data_list)>= 2000:\n",
    "        df = df.append(fetch_infection_data_from_rki(bundesland,offset+2000))\n",
    "    \n",
    "    return df"
   ]
  },
  {
   "cell_type": "markdown",
   "metadata": {},
   "source": [
    "Sample Run for Bayern"
   ]
  },
  {
   "cell_type": "code",
   "execution_count": null,
   "metadata": {
    "ExecuteTime": {
     "end_time": "2020-03-21T06:18:48.470908Z",
     "start_time": "2020-03-21T06:18:48.162943Z"
    }
   },
   "outputs": [],
   "source": [
    "df = fetch_infection_data_from_rki(\"Bayern\")\n",
    "df.head()"
   ]
  },
  {
   "cell_type": "markdown",
   "metadata": {},
   "source": [
    "aggregated Run for all countries"
   ]
  },
  {
   "cell_type": "code",
   "execution_count": null,
   "metadata": {},
   "outputs": [],
   "source": [
    "%%time\n",
    "# get the first country data in a dataframe\n",
    "all_country_infection_data = fetch_infection_data_from_rki(bundeslaender[0])\n",
    "# append all other rows to it\n",
    "for bland in bundeslaender[1:]:\n",
    "    all_country_infection_data=all_country_infection_data.append(fetch_infection_data_from_rki(bland))"
   ]
  },
  {
   "cell_type": "code",
   "execution_count": null,
   "metadata": {},
   "outputs": [],
   "source": [
    "aggregated_infection_country_data=all_country_infection_data.groupby([\"Bundesland\",\"Meldedatum\",\"Geschlecht\",\"Altersgruppe\"]).aggregate(sum)"
   ]
  },
  {
   "cell_type": "code",
   "execution_count": null,
   "metadata": {},
   "outputs": [],
   "source": [
    "# To look at \n",
    "aggregated_infection_country_data"
   ]
  },
  {
   "cell_type": "code",
   "execution_count": null,
   "metadata": {},
   "outputs": [],
   "source": [
    "if safe_infection_file:\n",
    "    aggregated_infection_country_data.to_csv(infection_file_name)"
   ]
  },
  {
   "cell_type": "markdown",
   "metadata": {},
   "source": [
    "## Fetching Death Numbers :("
   ]
  },
  {
   "cell_type": "code",
   "execution_count": null,
   "metadata": {},
   "outputs": [],
   "source": [
    "safe_death_file = True\n",
    "death_file_name = \"Todesfaelle_pro_land_pro_tag.csv\""
   ]
  },
  {
   "cell_type": "code",
   "execution_count": null,
   "metadata": {},
   "outputs": [],
   "source": [
    "def fetch_death_data_from_rki(bundesland:str=\"Hamburg\",offset=0):\n",
    "    \"\"\"\n",
    "    Fetch Covid-19-Cases from \n",
    "    https://experience.arcgis.com/experience/478220a4c454480e823b17327b2bf1d4/page/page_0/\n",
    "    \n",
    "    Args:\n",
    "        bundesland: written like displayed on the website, a string\n",
    "    Returns:\n",
    "        a Dataframe containing all historical infections data of a bundesland\n",
    "    \"\"\"\n",
    "    \n",
    "    url_endpoint = \"https://services7.arcgis.com/mOBPykOjAyBO2ZKk/arcgis/rest/services/RKI_COVID19/FeatureServer/0/query\"\n",
    "    params = {\n",
    "        'f': 'json', \n",
    "        'where': f'Bundesland=\\'{bundesland}\\' AND AnzahlTodesfall>0',\n",
    "        'returnGeometry': 'false',\n",
    "        'spatialRel': 'esriSpatialRelIntersects',\n",
    "        'outFields': 'ObjectId,AnzahlTodesfall,Meldedatum,Geschlecht,Altersgruppe',\n",
    "        'orderByFields': 'Meldedatum asc',\n",
    "        'resultOffset': offset,\n",
    "        'resultRecordCount': 2000,\n",
    "        'cacheHint': \"true\"    \n",
    "    }\n",
    "\n",
    "    url_query = f\"{url_endpoint}?{urllib.parse.urlencode(params)}\"\n",
    "\n",
    "    with urllib.request.urlopen(url_query) as url:\n",
    "        data = json.loads(url.read().decode())['features']\n",
    "    \n",
    "    data_list = [\n",
    "        (datetime.datetime.fromtimestamp(x['attributes']['Meldedatum'] / 1e3), x['attributes']['AnzahlTodesfall'],x['attributes']['Geschlecht'],x['attributes']['Altersgruppe'],bundesland) \n",
    "        for x in data\n",
    "    ]\n",
    "    \n",
    "    df = pandas.DataFrame(data_list, columns=['Meldedatum', 'Todesfaelle', 'Geschlecht','Altersgruppe','Bundesland'])\n",
    "\n",
    "    if len(data_list)>= 2000:\n",
    "        df = df.append(fetch_death_data_from_rki(bundesland,offset+2000))\n",
    "    \n",
    "    return df"
   ]
  },
  {
   "cell_type": "code",
   "execution_count": null,
   "metadata": {},
   "outputs": [],
   "source": [
    "df = fetch_death_data_from_rki(\"Bayern\")\n",
    "df.head()"
   ]
  },
  {
   "cell_type": "markdown",
   "metadata": {},
   "source": [
    "Aggregated run for all countries "
   ]
  },
  {
   "cell_type": "code",
   "execution_count": null,
   "metadata": {},
   "outputs": [],
   "source": [
    "%%time\n",
    "# get the first country data in a dataframe\n",
    "all_country_death_data = fetch_death_data_from_rki(bundeslaender[0])\n",
    "# append all other rows to it\n",
    "for bland in bundeslaender[1:]:\n",
    "    all_country_death_data=all_country_death_data.append(fetch_death_data_from_rki(bland))\n",
    "    \n",
    "aggregated_death_country_data=all_country_death_data.groupby([\"Bundesland\",\"Meldedatum\",\"Geschlecht\",\"Altersgruppe\"]).aggregate(sum)"
   ]
  },
  {
   "cell_type": "code",
   "execution_count": null,
   "metadata": {},
   "outputs": [],
   "source": [
    "aggregated_death_country_data"
   ]
  },
  {
   "cell_type": "code",
   "execution_count": null,
   "metadata": {},
   "outputs": [],
   "source": [
    "if safe_death_file:\n",
    "    aggregated_death_country_data.to_csv(death_file_name)"
   ]
  },
  {
   "cell_type": "markdown",
   "metadata": {},
   "source": [
    "## Pivot Tables \n",
    "\n",
    "As per discussion, for the merged file of morgenpost and rki we want to have rows per day showing the newly infected per day, with columns for the countries\n",
    "\n",
    "e.g. \n",
    "\n",
    "Day | Deaths Bayern | Infects Bayern | Deaths BaWü | Infects BaWü | ..."
   ]
  },
  {
   "cell_type": "code",
   "execution_count": null,
   "metadata": {},
   "outputs": [],
   "source": [
    "high_level_aggregated_infection_data = all_country_infection_data.groupby([\"Meldedatum\",\"Bundesland\"])"
   ]
  },
  {
   "cell_type": "code",
   "execution_count": null,
   "metadata": {},
   "outputs": [],
   "source": [
    "# Example how to access the 28th January for bayern\n",
    "high_level_aggregated_infection_data.get_group((\"2020-01-28\",\"Bayern\")).sum()"
   ]
  },
  {
   "cell_type": "code",
   "execution_count": null,
   "metadata": {},
   "outputs": [],
   "source": [
    "# Really only get the value (no clutter)\n",
    "high_level_aggregated_infection_data.get_group((\"2020-01-28\",\"Bayern\")).sum()[0]"
   ]
  },
  {
   "cell_type": "code",
   "execution_count": null,
   "metadata": {},
   "outputs": [],
   "source": [
    "infections_dates = set(all_country_infection_data.Meldedatum.unique())\n",
    "death_dates =  set(all_country_death_data.Meldedatum.unique())\n",
    "all_dates = list(infections_dates.union(death_dates))\n",
    "all_dates.sort()"
   ]
  },
  {
   "cell_type": "code",
   "execution_count": null,
   "metadata": {},
   "outputs": [],
   "source": [
    "#all_dates"
   ]
  },
  {
   "cell_type": "code",
   "execution_count": null,
   "metadata": {},
   "outputs": [],
   "source": [
    "# Example how to access the 28th January for bayern with the requested dates\n",
    "high_level_aggregated_infection_data.get_group((all_dates[1],\"Bayern\")).sum()"
   ]
  },
  {
   "cell_type": "code",
   "execution_count": null,
   "metadata": {},
   "outputs": [],
   "source": [
    "# Simple error catching for empty entries\n",
    "# Change Bayern to Hessen to see the error\n",
    "\n",
    "try:\n",
    "    print(high_level_aggregated_infection_data.get_group((all_dates[1],\"Bayern\")).sum())\n",
    "except(KeyError):\n",
    "    print(0)"
   ]
  },
  {
   "cell_type": "code",
   "execution_count": null,
   "metadata": {},
   "outputs": [],
   "source": [
    "flatten = lambda l: [item for sublist in l for item in sublist]\n",
    "\n",
    "def get_all_dates_sorted(all_death_data,all_infection_data):\n",
    "    infections_dates = set(all_infection_data.Meldedatum.unique())\n",
    "    death_dates =  set(all_death_data.Meldedatum.unique())\n",
    "    all_dates = list(infections_dates.union(death_dates))\n",
    "    all_dates.sort()\n",
    "    return all_dates\n",
    "\n",
    "def get_pivoted_country_data(all_death_data,all_infection_data):\n",
    "    dates = get_all_dates_sorted(all_death_data,all_infection_data)\n",
    "    bundeslaender = [\"Baden-Württemberg\",\"Nordrhein-Westfalen\",\"Bayern\",\"Hessen\",\"Berlin\",\n",
    "                 \"Niedersachsen\",\"Sachsen\",\"Rheinland-Pfalz\",\"Brandenburg\",\"Hamburg\",\"Schleswig-Holstein\"\n",
    "                ,\"Thüringen\",\"Mecklenburg-Vorpommern\",\"Bremen\",\"Saarland\",\"Sachsen-Anhalt\"]\n",
    "\n",
    "    grouped_infection_data = all_infection_data.groupby([\"Meldedatum\",\"Bundesland\"])\n",
    "    grouped_death_data = all_death_data.groupby([\"Meldedatum\",\"Bundesland\"])\n",
    "    \n",
    "    data = []\n",
    "    for date in dates:\n",
    "        row = [date]\n",
    "        for bland in bundeslaender:\n",
    "            try:\n",
    "                i_value = grouped_infection_data.get_group((date,bland)).sum()\n",
    "                row= row +[i_value['Neuinfektionen']]\n",
    "            except(KeyError):\n",
    "                row= row +[0]\n",
    "            try:\n",
    "                i_value = grouped_death_data.get_group((date,bland)).sum()\n",
    "                row= row +[i_value['Todesfaelle']]\n",
    "            except(KeyError):\n",
    "                row= row +[0]\n",
    "        data = data + [row]\n",
    "    \n",
    "    columns = [\"Datum\"]\n",
    "    columns = columns + flatten([[f\"RKI:Infektionen:{bland}\",f\"RKI:Tode:{bland}\"] for bland in bundeslaender])\n",
    "    \n",
    "    df = pandas.DataFrame(data,columns=columns)\n",
    "    \n",
    "    #Todo: Aggregate all values to the date they have, \n",
    "    # So that it's not \"new Infections at Day X\" but \"total infections at Day x\"\n",
    "    \n",
    "    return df"
   ]
  },
  {
   "cell_type": "code",
   "execution_count": null,
   "metadata": {},
   "outputs": [],
   "source": [
    "get_pivoted_country_data(all_country_death_data,all_country_infection_data)"
   ]
  }
 ],
 "metadata": {
  "kernelspec": {
   "display_name": "Python 3",
   "language": "python",
   "name": "python3"
  },
  "language_info": {
   "codemirror_mode": {
    "name": "ipython",
    "version": 3
   },
   "file_extension": ".py",
   "mimetype": "text/x-python",
   "name": "python",
   "nbconvert_exporter": "python",
   "pygments_lexer": "ipython3",
   "version": "3.7.4"
  }
 },
 "nbformat": 4,
 "nbformat_minor": 4
}
