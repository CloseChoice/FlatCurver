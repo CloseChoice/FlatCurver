{
 "cells": [
  {
   "cell_type": "markdown",
   "metadata": {
    "ExecuteTime": {
     "end_time": "2020-03-21T06:16:53.709613Z",
     "start_time": "2020-03-21T06:16:53.702216Z"
    }
   },
   "source": [
    "## Scrape Data from Robert Koch Institut\n",
    "https://experience.arcgis.com/experience/478220a4c454480e823b17327b2bf1d4/page/page_0/"
   ]
  },
  {
   "cell_type": "code",
   "execution_count": null,
   "metadata": {
    "ExecuteTime": {
     "end_time": "2020-03-21T06:17:05.505089Z",
     "start_time": "2020-03-21T06:17:01.829116Z"
    }
   },
   "outputs": [],
   "source": [
    "import urllib\n",
    "import json\n",
    "import datetime\n",
    "import pandas\n"
   ]
  },
  {
   "cell_type": "code",
   "execution_count": null,
   "metadata": {
    "ExecuteTime": {
     "end_time": "2020-03-21T06:18:30.022633Z",
     "start_time": "2020-03-21T06:18:30.011668Z"
    }
   },
   "outputs": [],
   "source": [
    "def fetch_infection_data_from_rki(bundesland:str=\"Hamburg\"):\n",
    "    \"\"\"\n",
    "    Fetch Covid-19-Cases from \n",
    "    https://experience.arcgis.com/experience/478220a4c454480e823b17327b2bf1d4/page/page_0/\n",
    "    \n",
    "    Args:\n",
    "        bundesland: written like displayed on the website, a string\n",
    "    Returns:\n",
    "        a Dataframe containing all historical data from a bundesland\n",
    "    \"\"\"\n",
    "    \n",
    "    url_endpoint = \"https://services7.arcgis.com/mOBPykOjAyBO2ZKk/arcgis/rest/services/RKI_COVID19/FeatureServer/0/query\"\n",
    "    params = {\n",
    "        'f': 'json', \n",
    "        'where': f'Bundesland=\\'{bundesland}\\'',\n",
    "        'returnGeometry': 'false',\n",
    "        'spatialRel': 'esriSpatialRelIntersects',\n",
    "        'outFields': 'ObjectId,AnzahlFall,Meldedatum',\n",
    "        'orderByFields': 'Meldedatum asc',\n",
    "        'resultOffset': 0,\n",
    "        'resultRecordCount': 2000,\n",
    "        'cacheHint': \"true\"    \n",
    "    }\n",
    "\n",
    "    url_query = f\"{url_endpoint}?{urllib.parse.urlencode(params)}\"\n",
    "\n",
    "    with urllib.request.urlopen(url_query) as url:\n",
    "        data = json.loads(url.read().decode())['features']\n",
    "        print(data[1])\n",
    "    \n",
    "    data_list = [\n",
    "        (datetime.datetime.fromtimestamp(x['attributes']['Meldedatum'] / 1e3), x['attributes']['AnzahlFall'],bundesland) \n",
    "        for x in data\n",
    "    ]\n",
    "\n",
    "    df = pandas.DataFrame(data_list, columns=['Meldedatum', 'AnzahlFall', 'Bundesland'])\n",
    "\n",
    "    return df"
   ]
  },
  {
   "cell_type": "code",
   "execution_count": null,
   "metadata": {
    "ExecuteTime": {
     "end_time": "2020-03-21T06:18:48.470908Z",
     "start_time": "2020-03-21T06:18:48.162943Z"
    }
   },
   "outputs": [],
   "source": [
    "df = fetch_infection_data_from_rki(\"Bayern\")\n",
    "df.head()"
   ]
  }
 ],
 "metadata": {
  "kernelspec": {
   "display_name": "Python 3",
   "language": "python",
   "name": "python3"
  },
  "language_info": {
   "codemirror_mode": {
    "name": "ipython",
    "version": 3
   },
   "file_extension": ".py",
   "mimetype": "text/x-python",
   "name": "python",
   "nbconvert_exporter": "python",
   "pygments_lexer": "ipython3",
   "version": "3.7.4"
  }
 },
 "nbformat": 4,
 "nbformat_minor": 4
}
