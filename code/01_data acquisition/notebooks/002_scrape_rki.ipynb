{
 "cells": [
  {
   "cell_type": "markdown",
   "metadata": {
    "ExecuteTime": {
     "end_time": "2020-03-21T06:16:53.709613Z",
     "start_time": "2020-03-21T06:16:53.702216Z"
    }
   },
   "source": [
    "## Scrape Data from Robert Koch Institut\n",
    "https://experience.arcgis.com/experience/478220a4c454480e823b17327b2bf1d4/page/page_0/"
   ]
  },
  {
   "cell_type": "code",
   "execution_count": null,
   "metadata": {
    "ExecuteTime": {
     "end_time": "2020-03-21T06:17:05.505089Z",
     "start_time": "2020-03-21T06:17:01.829116Z"
    }
   },
   "outputs": [],
   "source": [
    "import urllib\n",
    "import json\n",
    "import datetime\n",
    "import pandas"
   ]
  },
  {
   "cell_type": "code",
   "execution_count": null,
   "metadata": {},
   "outputs": [],
   "source": [
    "safe_file = True\n",
    "file_name = \"Neuinfektionen_pro_land_pro_tag.csv\""
   ]
  },
  {
   "cell_type": "code",
   "execution_count": null,
   "metadata": {
    "ExecuteTime": {
     "end_time": "2020-03-21T06:18:30.022633Z",
     "start_time": "2020-03-21T06:18:30.011668Z"
    }
   },
   "outputs": [],
   "source": [
    "def fetch_infection_data_from_rki(bundesland:str=\"Hamburg\"):\n",
    "    \"\"\"\n",
    "    Fetch Covid-19-Cases from \n",
    "    https://experience.arcgis.com/experience/478220a4c454480e823b17327b2bf1d4/page/page_0/\n",
    "    \n",
    "    Args:\n",
    "        bundesland: written like displayed on the website, a string\n",
    "    Returns:\n",
    "        a Dataframe containing all historical infections data of a bundesland\n",
    "    \"\"\"\n",
    "    \n",
    "    url_endpoint = \"https://services7.arcgis.com/mOBPykOjAyBO2ZKk/arcgis/rest/services/RKI_COVID19/FeatureServer/0/query\"\n",
    "    params = {\n",
    "        'f': 'json', \n",
    "        'where': f'Bundesland=\\'{bundesland}\\'',\n",
    "        'returnGeometry': 'false',\n",
    "        'spatialRel': 'esriSpatialRelIntersects',\n",
    "        'outFields': 'ObjectId,AnzahlFall,Meldedatum,Geschlecht,Altersgruppe',\n",
    "        'orderByFields': 'Meldedatum asc',\n",
    "        'resultOffset': 0,\n",
    "        'resultRecordCount': 2000,\n",
    "        'cacheHint': \"true\"    \n",
    "    }\n",
    "\n",
    "    url_query = f\"{url_endpoint}?{urllib.parse.urlencode(params)}\"\n",
    "\n",
    "    with urllib.request.urlopen(url_query) as url:\n",
    "        data = json.loads(url.read().decode())['features']\n",
    "    \n",
    "    data_list = [\n",
    "        (datetime.datetime.fromtimestamp(x['attributes']['Meldedatum'] / 1e3), x['attributes']['AnzahlFall'],x['attributes']['Geschlecht'],x['attributes']['Altersgruppe'],bundesland) \n",
    "        for x in data\n",
    "    ]\n",
    "\n",
    "    df = pandas.DataFrame(data_list, columns=['Meldedatum', 'Neuinfektionen', 'Geschlecht','Altersgruppe','Bundesland'])\n",
    "\n",
    "    return df"
   ]
  },
  {
   "cell_type": "code",
   "execution_count": null,
   "metadata": {
    "ExecuteTime": {
     "end_time": "2020-03-21T06:18:48.470908Z",
     "start_time": "2020-03-21T06:18:48.162943Z"
    }
   },
   "outputs": [],
   "source": [
    "df = fetch_infection_data_from_rki(\"Bayern\")\n",
    "df.head()"
   ]
  },
  {
   "cell_type": "code",
   "execution_count": null,
   "metadata": {},
   "outputs": [],
   "source": [
    "# Just a list of all countries\n",
    "bundeslaender = [\"Baden-Württemberg\",\"Nordrhein-Westfalen\",\"Bayern\",\"Hessen\",\"Berlin\",\n",
    "                 \"Niedersachsen\",\"Sachsen\",\"Rheinland-Pfalz\",\"Brandenburg\",\"Hamburg\",\"Schleswig-Holstein\"\n",
    "                ,\"Thüringen\",\"Mecklenburg-Vorpommern\",\"Bremen\",\"Saarland\",\"Sachsen-Anhalt\"]"
   ]
  },
  {
   "cell_type": "code",
   "execution_count": null,
   "metadata": {},
   "outputs": [],
   "source": [
    "%%time\n",
    "# get the first country data in a dataframe\n",
    "all_country_data = fetch_infection_data_from_rki(bundeslaender[0])\n",
    "# append all other rows to it\n",
    "for bland in bundeslaender[1:]:\n",
    "    all_country_data=all_country_data.append(fetch_infection_data_from_rki(bland))\n",
    "    \n",
    "all_country_data.info"
   ]
  },
  {
   "cell_type": "code",
   "execution_count": null,
   "metadata": {},
   "outputs": [],
   "source": [
    "aggregated_country_data=all_country_data.groupby([\"Bundesland\",\"Meldedatum\",\"Geschlecht\",\"Altersgruppe\"]).aggregate(sum)"
   ]
  },
  {
   "cell_type": "code",
   "execution_count": null,
   "metadata": {},
   "outputs": [],
   "source": [
    "aggregated_country_data"
   ]
  },
  {
   "cell_type": "code",
   "execution_count": null,
   "metadata": {},
   "outputs": [],
   "source": [
    "if safe_file:\n",
    "    aggregated_country_data.to_csv(file_name)"
   ]
  }
 ],
 "metadata": {
  "kernelspec": {
   "display_name": "Python 3",
   "language": "python",
   "name": "python3"
  },
  "language_info": {
   "codemirror_mode": {
    "name": "ipython",
    "version": 3
   },
   "file_extension": ".py",
   "mimetype": "text/x-python",
   "name": "python",
   "nbconvert_exporter": "python",
   "pygments_lexer": "ipython3",
   "version": "3.7.4"
  }
 },
 "nbformat": 4,
 "nbformat_minor": 4
}
