{
 "cells": [
  {
   "cell_type": "markdown",
   "metadata": {
    "ExecuteTime": {
     "end_time": "2020-03-21T06:16:53.709613Z",
     "start_time": "2020-03-21T06:16:53.702216Z"
    }
   },
   "source": [
    "## Scrape Data from Robert Koch Institut\n",
    "https://experience.arcgis.com/experience/478220a4c454480e823b17327b2bf1d4/page/page_0/"
   ]
  },
  {
   "cell_type": "code",
   "execution_count": 2,
   "metadata": {
    "ExecuteTime": {
     "end_time": "2020-03-21T06:17:05.505089Z",
     "start_time": "2020-03-21T06:17:01.829116Z"
    }
   },
   "outputs": [],
   "source": [
    "import urllib\n",
    "import json\n",
    "import datetime\n",
    "\n",
    "import pandas"
   ]
  },
  {
   "cell_type": "code",
   "execution_count": 6,
   "metadata": {
    "ExecuteTime": {
     "end_time": "2020-03-21T06:18:30.022633Z",
     "start_time": "2020-03-21T06:18:30.011668Z"
    }
   },
   "outputs": [],
   "source": [
    "def fetch_data_from_rki(bundesland:str=\"Hamburg\"):\n",
    "    \"\"\"\n",
    "    Fetch Covid-19-Cases from \n",
    "    https://experience.arcgis.com/experience/478220a4c454480e823b17327b2bf1d4/page/page_0/\n",
    "    \n",
    "    Args:\n",
    "        bundesland: written like displayed on the website, a string\n",
    "    Returns:\n",
    "        a Dataframe containing all historical data from a bundesland\n",
    "    \"\"\"\n",
    "    \n",
    "    url_endpoint = \"https://services7.arcgis.com/mOBPykOjAyBO2ZKk/arcgis/rest/services/RKI_COVID19/FeatureServer/0/query\"\n",
    "    params = {\n",
    "        'f': 'json', \n",
    "        'where': f'Bundesland=\\'{bundesland}\\'',\n",
    "        'returnGeometry': 'false',\n",
    "        'spatialRel': 'esriSpatialRelIntersects',\n",
    "        'outFields': 'ObjectId,AnzahlFall,Meldedatum',\n",
    "        'orderByFields': 'Meldedatum asc',\n",
    "        'resultOffset': 0,\n",
    "        'resultRecordCount': 2000,\n",
    "        'cacheHint': \"true\"    \n",
    "    }\n",
    "\n",
    "    url_query = f\"{url_endpoint}?{urllib.parse.urlencode(params)}\"\n",
    "    print(url_query)\n",
    "\n",
    "    with urllib.request.urlopen(url_query) as url:\n",
    "        data = json.loads(url.read().decode())['features']\n",
    "    \n",
    "    data_list = [\n",
    "        (datetime.datetime.fromtimestamp(x['attributes']['Meldedatum'] / 1e3), x['attributes']['AnzahlFall']) \n",
    "        for x in data\n",
    "    ]\n",
    "\n",
    "    df = pandas.DataFrame(data_list, columns=['Meldedatum', 'AnzahlFall'])\n",
    "\n",
    "    return df"
   ]
  },
  {
   "cell_type": "code",
   "execution_count": 8,
   "metadata": {
    "ExecuteTime": {
     "end_time": "2020-03-21T06:18:48.470908Z",
     "start_time": "2020-03-21T06:18:48.162943Z"
    }
   },
   "outputs": [
    {
     "name": "stdout",
     "output_type": "stream",
     "text": [
      "https://services7.arcgis.com/mOBPykOjAyBO2ZKk/arcgis/rest/services/RKI_COVID19/FeatureServer/0/query?f=json&where=Bundesland%3D%27Bayern%27&returnGeometry=false&spatialRel=esriSpatialRelIntersects&outFields=ObjectId%2CAnzahlFall%2CMeldedatum&orderByFields=Meldedatum+asc&resultOffset=0&resultRecordCount=2000&cacheHint=true\n"
     ]
    },
    {
     "data": {
      "text/html": [
       "<div>\n",
       "<style scoped>\n",
       "    .dataframe tbody tr th:only-of-type {\n",
       "        vertical-align: middle;\n",
       "    }\n",
       "\n",
       "    .dataframe tbody tr th {\n",
       "        vertical-align: top;\n",
       "    }\n",
       "\n",
       "    .dataframe thead th {\n",
       "        text-align: right;\n",
       "    }\n",
       "</style>\n",
       "<table border=\"1\" class=\"dataframe\">\n",
       "  <thead>\n",
       "    <tr style=\"text-align: right;\">\n",
       "      <th></th>\n",
       "      <th>Meldedatum</th>\n",
       "      <th>AnzahlFall</th>\n",
       "    </tr>\n",
       "  </thead>\n",
       "  <tbody>\n",
       "    <tr>\n",
       "      <th>0</th>\n",
       "      <td>2020-01-28 01:00:00</td>\n",
       "      <td>1</td>\n",
       "    </tr>\n",
       "    <tr>\n",
       "      <th>1</th>\n",
       "      <td>2020-01-28 01:00:00</td>\n",
       "      <td>1</td>\n",
       "    </tr>\n",
       "    <tr>\n",
       "      <th>2</th>\n",
       "      <td>2020-01-29 01:00:00</td>\n",
       "      <td>1</td>\n",
       "    </tr>\n",
       "    <tr>\n",
       "      <th>3</th>\n",
       "      <td>2020-01-29 01:00:00</td>\n",
       "      <td>1</td>\n",
       "    </tr>\n",
       "    <tr>\n",
       "      <th>4</th>\n",
       "      <td>2020-01-31 01:00:00</td>\n",
       "      <td>1</td>\n",
       "    </tr>\n",
       "  </tbody>\n",
       "</table>\n",
       "</div>"
      ],
      "text/plain": [
       "           Meldedatum  AnzahlFall\n",
       "0 2020-01-28 01:00:00           1\n",
       "1 2020-01-28 01:00:00           1\n",
       "2 2020-01-29 01:00:00           1\n",
       "3 2020-01-29 01:00:00           1\n",
       "4 2020-01-31 01:00:00           1"
      ]
     },
     "execution_count": 8,
     "metadata": {},
     "output_type": "execute_result"
    }
   ],
   "source": [
    "df = fetch_data_from_rki(\"Bayern\")\n",
    "df.head()"
   ]
  },
  {
   "cell_type": "code",
   "execution_count": null,
   "metadata": {},
   "outputs": [],
   "source": []
  }
 ],
 "metadata": {
  "kernelspec": {
   "display_name": "Python 3",
   "language": "python",
   "name": "python3"
  },
  "language_info": {
   "codemirror_mode": {
    "name": "ipython",
    "version": 3
   },
   "file_extension": ".py",
   "mimetype": "text/x-python",
   "name": "python",
   "nbconvert_exporter": "python",
   "pygments_lexer": "ipython3",
   "version": "3.6.5"
  }
 },
 "nbformat": 4,
 "nbformat_minor": 2
}
