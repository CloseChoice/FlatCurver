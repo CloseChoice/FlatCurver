{
 "cells": [
  {
   "cell_type": "markdown",
   "metadata": {},
   "source": [
    "## Scrape Data from Morgenpost\n",
    "https://interaktiv.morgenpost.de/corona-virus-karte-infektionen-deutschland-weltweit/"
   ]
  },
  {
   "cell_type": "code",
   "execution_count": 8,
   "metadata": {
    "ExecuteTime": {
     "end_time": "2020-03-21T07:06:27.854208Z",
     "start_time": "2020-03-21T07:06:27.850351Z"
    }
   },
   "outputs": [],
   "source": [
    "import io\n",
    "import urllib\n",
    "import pandas"
   ]
  },
  {
   "cell_type": "code",
   "execution_count": 12,
   "metadata": {
    "ExecuteTime": {
     "end_time": "2020-03-21T07:12:55.407183Z",
     "start_time": "2020-03-21T07:12:54.954034Z"
    },
    "code_folding": []
   },
   "outputs": [
    {
     "data": {
      "text/html": [
       "<div>\n",
       "<style scoped>\n",
       "    .dataframe tbody tr th:only-of-type {\n",
       "        vertical-align: middle;\n",
       "    }\n",
       "\n",
       "    .dataframe tbody tr th {\n",
       "        vertical-align: top;\n",
       "    }\n",
       "\n",
       "    .dataframe thead th {\n",
       "        text-align: right;\n",
       "    }\n",
       "</style>\n",
       "<table border=\"1\" class=\"dataframe\">\n",
       "  <thead>\n",
       "    <tr style=\"text-align: right;\">\n",
       "      <th></th>\n",
       "      <th>date</th>\n",
       "      <th>confirmed</th>\n",
       "      <th>recovered</th>\n",
       "      <th>deaths</th>\n",
       "    </tr>\n",
       "  </thead>\n",
       "  <tbody>\n",
       "    <tr>\n",
       "      <th>2423</th>\n",
       "      <td>2020-03-01</td>\n",
       "      <td>1</td>\n",
       "      <td>0</td>\n",
       "      <td>0</td>\n",
       "    </tr>\n",
       "    <tr>\n",
       "      <th>2610</th>\n",
       "      <td>2020-03-02</td>\n",
       "      <td>1</td>\n",
       "      <td>0</td>\n",
       "      <td>0</td>\n",
       "    </tr>\n",
       "    <tr>\n",
       "      <th>2775</th>\n",
       "      <td>2020-03-03</td>\n",
       "      <td>2</td>\n",
       "      <td>0</td>\n",
       "      <td>0</td>\n",
       "    </tr>\n",
       "    <tr>\n",
       "      <th>2938</th>\n",
       "      <td>2020-03-04</td>\n",
       "      <td>3</td>\n",
       "      <td>0</td>\n",
       "      <td>0</td>\n",
       "    </tr>\n",
       "    <tr>\n",
       "      <th>2988</th>\n",
       "      <td>2020-03-05</td>\n",
       "      <td>5</td>\n",
       "      <td>0</td>\n",
       "      <td>0</td>\n",
       "    </tr>\n",
       "  </tbody>\n",
       "</table>\n",
       "</div>"
      ],
      "text/plain": [
       "            date  confirmed  recovered  deaths\n",
       "2423  2020-03-01          1          0       0\n",
       "2610  2020-03-02          1          0       0\n",
       "2775  2020-03-03          2          0       0\n",
       "2938  2020-03-04          3          0       0\n",
       "2988  2020-03-05          5          0       0"
      ]
     },
     "execution_count": 12,
     "metadata": {},
     "output_type": "execute_result"
    }
   ],
   "source": [
    "# download current history csv file\n",
    "#url = 'https://interaktiv.morgenpost.de/corona-virus-karte-infektionen-deutschland-weltweit/data/Coronavirus.history.v2.csv'\n",
    "#urllib.request.urlretrieve(url, 'morgenpost.csv')\n",
    "\n",
    "def fetch_data_from_morgenpost(bundesland:str=\"Hamburg\"):\n",
    "    # download current history csv file\n",
    "    url_query = 'https://interaktiv.morgenpost.de/corona-virus-karte-infektionen-deutschland-weltweit/data/Coronavirus.history.v2.csv'\n",
    "    #urllib.request.urlretrieve(url, 'morgenpost.csv')\n",
    "    \n",
    "    with urllib.request.urlopen(url_query) as url:\n",
    "        csv_string = url.read().decode()\n",
    "\n",
    "    # read csv and filter by country\n",
    "    df = pandas.read_csv(io.StringIO(csv_string))\n",
    "    df_bundesland = df[df['label']==bundesland]\n",
    "    \n",
    "    # drop unnecessary collumns\n",
    "    df_bundesland = df_bundesland[['date','confirmed','recovered', 'deaths']]\n",
    "\n",
    "    return df_bundesland\n",
    "\n",
    "fetch_data_from_morgenpost().head()"
   ]
  },
  {
   "cell_type": "code",
   "execution_count": 5,
   "metadata": {
    "ExecuteTime": {
     "end_time": "2020-03-20T23:12:57.173230Z",
     "start_time": "2020-03-20T23:12:57.109262Z"
    }
   },
   "outputs": [
    {
     "data": {
      "text/html": [
       "<div>\n",
       "<style scoped>\n",
       "    .dataframe tbody tr th:only-of-type {\n",
       "        vertical-align: middle;\n",
       "    }\n",
       "\n",
       "    .dataframe tbody tr th {\n",
       "        vertical-align: top;\n",
       "    }\n",
       "\n",
       "    .dataframe thead th {\n",
       "        text-align: right;\n",
       "    }\n",
       "</style>\n",
       "<table border=\"1\" class=\"dataframe\">\n",
       "  <thead>\n",
       "    <tr style=\"text-align: right;\">\n",
       "      <th></th>\n",
       "      <th>parent</th>\n",
       "      <th>label</th>\n",
       "      <th>date</th>\n",
       "      <th>lon</th>\n",
       "      <th>lat</th>\n",
       "      <th>confirmed</th>\n",
       "      <th>recovered</th>\n",
       "      <th>deaths</th>\n",
       "    </tr>\n",
       "  </thead>\n",
       "  <tbody>\n",
       "    <tr>\n",
       "      <th>11</th>\n",
       "      <td>Deutschland</td>\n",
       "      <td>Bayern</td>\n",
       "      <td>2020-01-27</td>\n",
       "      <td>11.658165</td>\n",
       "      <td>48.768814</td>\n",
       "      <td>1</td>\n",
       "      <td>0</td>\n",
       "      <td>0</td>\n",
       "    </tr>\n",
       "    <tr>\n",
       "      <th>64</th>\n",
       "      <td>Deutschland</td>\n",
       "      <td>Bayern</td>\n",
       "      <td>2020-01-28</td>\n",
       "      <td>11.658165</td>\n",
       "      <td>48.768814</td>\n",
       "      <td>4</td>\n",
       "      <td>0</td>\n",
       "      <td>0</td>\n",
       "    </tr>\n",
       "    <tr>\n",
       "      <th>142</th>\n",
       "      <td>Deutschland</td>\n",
       "      <td>Bayern</td>\n",
       "      <td>2020-01-29</td>\n",
       "      <td>11.658165</td>\n",
       "      <td>48.768814</td>\n",
       "      <td>4</td>\n",
       "      <td>0</td>\n",
       "      <td>0</td>\n",
       "    </tr>\n",
       "    <tr>\n",
       "      <th>187</th>\n",
       "      <td>Deutschland</td>\n",
       "      <td>Bayern</td>\n",
       "      <td>2020-01-30</td>\n",
       "      <td>11.658165</td>\n",
       "      <td>48.768814</td>\n",
       "      <td>5</td>\n",
       "      <td>0</td>\n",
       "      <td>0</td>\n",
       "    </tr>\n",
       "    <tr>\n",
       "      <th>254</th>\n",
       "      <td>Deutschland</td>\n",
       "      <td>Bayern</td>\n",
       "      <td>2020-01-31</td>\n",
       "      <td>11.658165</td>\n",
       "      <td>48.768814</td>\n",
       "      <td>7</td>\n",
       "      <td>0</td>\n",
       "      <td>0</td>\n",
       "    </tr>\n",
       "  </tbody>\n",
       "</table>\n",
       "</div>"
      ],
      "text/plain": [
       "          parent   label        date        lon        lat  confirmed  \\\n",
       "11   Deutschland  Bayern  2020-01-27  11.658165  48.768814          1   \n",
       "64   Deutschland  Bayern  2020-01-28  11.658165  48.768814          4   \n",
       "142  Deutschland  Bayern  2020-01-29  11.658165  48.768814          4   \n",
       "187  Deutschland  Bayern  2020-01-30  11.658165  48.768814          5   \n",
       "254  Deutschland  Bayern  2020-01-31  11.658165  48.768814          7   \n",
       "\n",
       "     recovered  deaths  \n",
       "11           0       0  \n",
       "64           0       0  \n",
       "142          0       0  \n",
       "187          0       0  \n",
       "254          0       0  "
      ]
     },
     "execution_count": 5,
     "metadata": {},
     "output_type": "execute_result"
    }
   ],
   "source": [
    "# read csv and filter by country\n",
    "df = pandas.read_csv('morgenpost.csv')\n",
    "df_de = df[df['parent']==\"Deutschland\"]\n",
    "\n",
    "df_de.head()"
   ]
  },
  {
   "cell_type": "code",
   "execution_count": null,
   "metadata": {},
   "outputs": [],
   "source": []
  }
 ],
 "metadata": {
  "kernelspec": {
   "display_name": "Python 3",
   "language": "python",
   "name": "python3"
  },
  "language_info": {
   "codemirror_mode": {
    "name": "ipython",
    "version": 3
   },
   "file_extension": ".py",
   "mimetype": "text/x-python",
   "name": "python",
   "nbconvert_exporter": "python",
   "pygments_lexer": "ipython3",
   "version": "3.6.5"
  }
 },
 "nbformat": 4,
 "nbformat_minor": 2
}
