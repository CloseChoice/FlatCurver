{
 "cells": [
  {
   "cell_type": "markdown",
   "metadata": {},
   "source": [
    "#### In this we aim to simulate a scenario similar to https://www.rki.de/DE/Content/InfAZ/N/Neuartiges_Coronavirus/Modellierung_Deutschland.pdf?__blob=publicationFile. Some advances may be taken into account"
   ]
  },
  {
   "cell_type": "code",
   "execution_count": null,
   "metadata": {},
   "outputs": [],
   "source": [
    "import numpy as np\n",
    "import pandas as pd\n",
    "from scipy.integrate import solve_ivp\n",
    "import matplotlib.pyplot as plt\n",
    "%matplotlib inline"
   ]
  },
  {
   "cell_type": "code",
   "execution_count": null,
   "metadata": {},
   "outputs": [],
   "source": [
    "dates = pd.date_range('2020-01-27', '2021-12-31')  #data range for the whole year starting from the first point for which we have german data"
   ]
  },
  {
   "cell_type": "markdown",
   "metadata": {},
   "source": [
    "The system of differential equations is given by: <br/>\n",
    "$\\dot{S}=\\frac{\\beta I S}{N}$ <br/>\n",
    "$\\dot{E}=\\delta \\cdot I$ <br/>\n",
    "$\\dot{R}=\\gamma \\cdot I$ <br/>\n",
    "$\\dot{I}=\\frac{\\beta I S}{N}-\\dot{E}-\\dot{R}$ <br/>\n",
    "\n",
    "with $N$ as total population, $S(t)$ as susceptible people at time $t$, $E(t)$ as people dying at time $t$, $R(t)$ as people who are already recovered from the disease and have immunity and $I(t)$ as infected (and infectious) people. The paramters which have to be assumed are $\\beta$ which is the contact rate of infectious and susceptible, $\\gamma$ which is the recovery rate and $\\delta$ which is the death rate. This is a system of coupled ordinary differential equations of first order and can therefore be solved with standard ODE-solvers."
   ]
  },
  {
   "cell_type": "code",
   "execution_count": null,
   "metadata": {},
   "outputs": [],
   "source": [
    "def deriv(t, y):\n",
    "    S, E, I, R = y\n",
    "    dSdt = -1/N*beta*I*S\n",
    "    # Based on the hospital-limits, the deathrate can be different\n",
    "    \n",
    "    if I < hospital_limit:\n",
    "        dEdt = delta1*I\n",
    "        dRdt = gamma1*I\n",
    "    else:\n",
    "        dEdt = delta2*I\n",
    "        dRdt = gamma2*I\n",
    "        \n",
    "    dIdt = 1/N*beta*I*S-dEdt-dRdt\n",
    "    return dSdt, dEdt, dIdt, dRdt"
   ]
  },
  {
   "cell_type": "code",
   "execution_count": null,
   "metadata": {},
   "outputs": [],
   "source": [
    "beta = 2/10  # contact rate: given by RKI, a patient is 10 days infectious and infects 2 people during this time\n",
    "gamma1 = 0.97/14  #recovery rate: 0.97 percent survive while the average infection lasts for 14 days\n",
    "delta1 = 0.03/14  #death rate: 1-gamma\n",
    "N = 8*10e7  #german population\n",
    "\n",
    "# How Many % of germans can be in a hospital at one time\n",
    "hospital_limit=500000/N \n",
    "\n",
    "gamma2 = 0.92/14 # Recovery rate if not hospitalized\n",
    "delta2 = 0.08/14 # Lethality if not hospotalized"
   ]
  },
  {
   "cell_type": "code",
   "execution_count": null,
   "metadata": {},
   "outputs": [],
   "source": [
    "sol = solve_ivp(deriv, (0, 260), y0=[N-1, 0, 1, 0], t_eval = np.linspace(0, 260, 261))"
   ]
  },
  {
   "cell_type": "code",
   "execution_count": null,
   "metadata": {},
   "outputs": [],
   "source": [
    "dates[sol.t.astype(int)]"
   ]
  },
  {
   "cell_type": "code",
   "execution_count": null,
   "metadata": {},
   "outputs": [],
   "source": [
    "def plotting_standards(ax):\n",
    "    ax.set_xlabel('Time /days')\n",
    "    ax.set_ylabel('Number (percent of total population)')\n",
    "    ax.set_ylim(0,1.2)\n",
    "    ax.yaxis.set_tick_params(length=0)\n",
    "    ax.xaxis.set_tick_params(length=0)\n",
    "    ax.grid(b=True, which='major', c='w', lw=2, ls='-')\n",
    "    legend = ax.legend()\n",
    "    legend.get_frame().set_alpha(0.5)\n",
    "    for spine in ('top', 'right', 'bottom', 'left'):\n",
    "        ax.spines[spine].set_visible(False)\n",
    "def plot_one_dim(sol):\n",
    "    fig = plt.figure(facecolor='w', figsize=(20,10))\n",
    "    ax = fig.add_subplot(111, axisbelow=True)\n",
    "    ax.plot(dates[sol.t.astype(int)], sol.y[0,:]/N, 'b', alpha=0.5, lw=2, label=f'Susceptible')\n",
    "    ax.plot(dates[sol.t.astype(int)], sol.y[1,:]/N, 'r', alpha=0.5, lw=2, label=f'Dead')\n",
    "    ax.plot(dates[sol.t.astype(int)], sol.y[2,:]/N, 'g', alpha=0.5, lw=2, label=f'Infected')\n",
    "    ax.plot(dates[sol.t.astype(int)], sol.y[3,:]/N, 'black', alpha=0.5, lw=2, label=f'Recovered with immunity')\n",
    "    plotting_standards(ax)\n",
    "\n",
    "plot_one_dim(sol)"
   ]
  },
  {
   "cell_type": "markdown",
   "metadata": {},
   "source": [
    "#### Making the one dimensional case time dependent"
   ]
  },
  {
   "cell_type": "markdown",
   "metadata": {},
   "source": [
    "The RKI assumes as sinusoidal form of which has its minimum at the end of June."
   ]
  },
  {
   "cell_type": "code",
   "execution_count": null,
   "metadata": {},
   "outputs": [],
   "source": [
    "def sinusoidal_decay(seasonality, length):\n",
    "    R0 = 2\n",
    "    if seasonality == 'weak':\n",
    "        a = 0.6\n",
    "    elif seasonality == 'strong':\n",
    "        a = 1.33\n",
    "    else:\n",
    "        raise ValueError(f\"seasonality {seasonality} not found\")\n",
    "    return -a*np.sin([2*np.pi*i/(2*length) for i in range(length)]) + R0"
   ]
  },
  {
   "cell_type": "code",
   "execution_count": null,
   "metadata": {},
   "outputs": [],
   "source": [
    "beta = 2  # contact rate: given by RKI, a patient is 10 days infectious and infects 2 people during this time\n",
    "gamma = 0.97/9  #recovery rate: 0.97 percent survive while the average infection lasts for 14 days\n",
    "delta = 0.03/14  #death rate: 1-gamma\n",
    "N = 8*10e7  #german population"
   ]
  },
  {
   "cell_type": "code",
   "execution_count": null,
   "metadata": {},
   "outputs": [],
   "source": [
    "length = 460\n",
    "beta = sinusoidal_decay('weak', length)/7\n",
    "\n",
    "def deriv_time_dep(t, y):\n",
    "    S, E, I, R = y\n",
    "    dSdt = -1/N*beta[int(t)]*I*S\n",
    "    dEdt = delta*I\n",
    "    dRdt = gamma*I\n",
    "    dIdt = 1/N*beta[int(t)]*I*S-dEdt-dRdt\n",
    "    return dSdt, dEdt, dIdt, dRdt"
   ]
  },
  {
   "cell_type": "code",
   "execution_count": null,
   "metadata": {},
   "outputs": [],
   "source": [
    "sol = solve_ivp(deriv_time_dep, (0, length-1), y0=[N-1, 0, 1, 0], t_eval = np.linspace(0, length-1, length))"
   ]
  },
  {
   "cell_type": "code",
   "execution_count": null,
   "metadata": {},
   "outputs": [],
   "source": [
    "class PandemySimulatorBase:\n",
    "    def __init__(beta, gamma, delta, N, timesteps=400):\n",
    "        self.beta = beta if len(beta) == timesteps else \n",
    "        self.gamma = gamma\n",
    "        self.delta = delta\n",
    "        self.N = N\n",
    "    \n",
    "    def simulate_SEIR():\n",
    "        def deriv_time_dep(t, y):\n",
    "            S, E, I, R = y\n",
    "            dSdt = -1/N*self.beta[int(t)]*I*S\n",
    "            dEdt = self.delta*I\n",
    "            dRdt = self.gamma*I\n",
    "            dIdt = 1/N*self.beta[int(t)]*I*S-dEdt-dRdt\n",
    "            return dSdt, dEdt, dIdt, dRdt\n",
    "        "
   ]
  },
  {
   "cell_type": "code",
   "execution_count": null,
   "metadata": {},
   "outputs": [],
   "source": [
    "plot_one_dim(sol)"
   ]
  },
  {
   "cell_type": "markdown",
   "metadata": {},
   "source": [
    "#### Multi Dimensional Case"
   ]
  },
  {
   "cell_type": "markdown",
   "metadata": {},
   "source": [
    "In principle the equations given above can be extended to matrix equations then $S, E, I, R$ are vectors and $\\mathbf{\\beta}, \\mathbf{\\gamma}$ and $\\mathbf{\\delta}$ become matrices.\n",
    "The whole system then results in: <br/>\n",
    "$\\dot{S}=\\frac{(I \\cdot \\beta) \\circ S}{N}$ <br/>\n",
    "$\\dot{E}=\\delta \\cdot I$ <br/>\n",
    "$\\dot{R}=\\gamma \\cdot I$ <br/>\n",
    "$\\dot{I}=\\frac{(I \\cdot \\beta) \\circ S}{N}-\\dot{E}-\\dot{R}$ <br/>\n",
    "\n",
    "with $\\circ$ being the Schur Hadamard product (pointwise multiplication) <br/>\n",
    "While $\\mathbf{\\gamma}, \\mathbf{\\delta}       \\in diag(\\mathbb{R}^{N\\times N})$ there is an interesting change for $\\mathbf{\\beta}$ (just showing the case for $N=2$:\n",
    "\n",
    "$\\begin{array}{rr}\\beta_{11} & \\beta_{12} \\\\ \\beta_{21} & \\beta_{22} \\end{array}$.\n",
    "We can now interpret each of the component of $S, E, I, R$ as a seperate group of people interacting with other groups (groups could be young and old people, north and south region or even each seperate Bundesland with $N=16$). The diagonal coefficients represent the contact rate within the group while $\\beta_{12}$ is the contact rate of group 1 with group 2. In most cases it should be assumed $\\beta_{12} = \\beta_{21}$ (implicating $\\beta = \\beta^{T}$) but one might think of a disease where group 2 is more infectious than group 1 then therefore $\\beta_{12} > \\beta_{21}$"
   ]
  },
  {
   "cell_type": "code",
   "execution_count": null,
   "metadata": {},
   "outputs": [],
   "source": [
    "def deriv_multi(t, y):\n",
    "    S, I, R, D = [y[ndim*i:ndim*(i+1)] for i in range(4)]\n",
    "    dSdt = -1/N*np.dot(beta,I)*S  #Todo: N -> N_1 and N_2\n",
    "    dDdt = np.dot(delta,I)\n",
    "    dRdt = np.dot(gamma,I)\n",
    "    dIdt = 1/N*np.dot(beta,I)*S-dDdt-dRdt\n",
    "    return [*dSdt, *dIdt, *dRdt, *dDdt]"
   ]
  },
  {
   "cell_type": "code",
   "execution_count": null,
   "metadata": {},
   "outputs": [],
   "source": [
    "ndim = 2\n",
    "beta = np.array([[2/10, 3/10], [1/10, 2/10]])  # contact rate: given by RKI, a patient is 10 days infectious and infects 2 people during this time\n",
    "gamma = np.diag([0.97/14, 0.96/14])  #recovery rate: 0.97 percent survive while the average infection lasts for 14 days\n",
    "delta = np.diag([0.03/14, 0.04/14])  #death rate: 1-gamma\n",
    "N = 8*10e7  #german population"
   ]
  },
  {
   "cell_type": "code",
   "execution_count": null,
   "metadata": {},
   "outputs": [],
   "source": [
    "N_1 = 0.5*N\n",
    "N_2 = 0.5*N"
   ]
  },
  {
   "cell_type": "code",
   "execution_count": null,
   "metadata": {},
   "outputs": [],
   "source": [
    "sol = solve_ivp(deriv_multi, (0, 260), y0=[N_1-1, N_2, 1, 0, 0, 0, 0, 0], t_eval = np.linspace(0, 260, 260))"
   ]
  },
  {
   "cell_type": "code",
   "execution_count": null,
   "metadata": {},
   "outputs": [],
   "source": [
    "def plot_multidim_solution(sol):\n",
    "    fig = plt.figure(facecolor='w', figsize=(20,10))\n",
    "    ax = fig.add_subplot(111, axisbelow=True)\n",
    "    for i in range(ndim):\n",
    "        ax = plt.subplot(ndim, 1, i+1)\n",
    "        ax.plot(sol.t, sol.y[i,:]/N, 'b', alpha=0.5, lw=2, label=f'Susceptible_{i}')\n",
    "        ax.plot(sol.t, sol.y[ndim+i,:]/N, 'r', alpha=0.5, lw=2, label=f'Infected_{i}')\n",
    "        \n",
    "        ax.plot(sol.t, sol.y[2*ndim+i,:]/N, 'g', alpha=0.5, lw=2, label=f'Recovered with immunity_{i}')\n",
    "        \n",
    "        ax.plot(sol.t, sol.y[3*ndim+i,:]/N, 'g', alpha=0.5, lw=2, label=f'Dead_{i}')\n",
    "        plotting_standards(ax)"
   ]
  },
  {
   "cell_type": "code",
   "execution_count": null,
   "metadata": {},
   "outputs": [],
   "source": [
    "plot_multidim_solution(sol)"
   ]
  },
  {
   "cell_type": "code",
   "execution_count": null,
   "metadata": {},
   "outputs": [],
   "source": [
    "fig = plt.figure(facecolor='w')\n",
    "ax = fig.add_subplot(111, axisbelow=True)\n",
    "for i in range(ndim):\n",
    "    ax.plot(sol.t, sol.y[i,:]/N, 'b', alpha=0.5, lw=2, label=f'Susceptible_{i}')\n",
    "    ax.plot(sol.t, sol.y[ndim+i,:]/N, 'r', alpha=0.5, lw=2, label=f'Infected_{i}')\n",
    "    \n",
    "    ax.plot(sol.t, sol.y[2*ndim+i,:]/N, 'g', alpha=0.5, lw=2, label=f'Recovered with immunity_{i}')\n",
    "    \n",
    "    ax.plot(sol.t, sol.y[3*ndim+i,:]/N, 'g', alpha=0.5, lw=2, label=f'Dead_{i}')\n",
    "ax.set_xlabel('Time /days')\n",
    "ax.set_ylabel('Number (1000s)')\n",
    "ax.set_ylim(0,1.2)\n",
    "ax.yaxis.set_tick_params(length=0)\n",
    "ax.xaxis.set_tick_params(length=0)\n",
    "ax.grid(b=True, which='major', c='w', lw=2, ls='-')\n",
    "legend = ax.legend()\n",
    "legend.get_frame().set_alpha(0.5)\n",
    "for spine in ('top', 'right', 'bottom', 'left'):\n",
    "    ax.spines[spine].set_visible(False)\n",
    "plt.show()"
   ]
  },
  {
   "cell_type": "markdown",
   "metadata": {},
   "source": [
    "Enhancements to the simulation:\n",
    "    - make parameters $\\beta, \\gamma, \\delta$ time dependent as done in the RKI paper\n",
    "    - solve the system for more than 2 groups \n",
    "    - fit the system on actual data (problem is that we have to assume to be somewhere on the ascending part of the curve but we don't know where)"
   ]
  }
 ],
 "metadata": {
  "kernelspec": {
   "display_name": "Python 3",
   "language": "python",
   "name": "python3"
  },
  "language_info": {
   "codemirror_mode": {
    "name": "ipython",
    "version": 3
   },
   "file_extension": ".py",
   "mimetype": "text/x-python",
   "name": "python",
   "nbconvert_exporter": "python",
   "pygments_lexer": "ipython3",
   "version": "3.7.4"
  }
 },
 "nbformat": 4,
 "nbformat_minor": 4
}
