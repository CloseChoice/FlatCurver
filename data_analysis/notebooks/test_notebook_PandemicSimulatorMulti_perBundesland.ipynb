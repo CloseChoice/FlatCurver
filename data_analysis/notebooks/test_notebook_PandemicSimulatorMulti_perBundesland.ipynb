{
 "cells": [
  {
   "cell_type": "code",
   "execution_count": null,
   "metadata": {},
   "outputs": [],
   "source": [
    "import pandas as pd\n",
    "import numpy as np\n",
    "import matplotlib.pyplot as plt\n",
    "\n",
    "import FlatCurver.simulation.PandemicSimulator.PandemicSimulatorMulti as pan"
   ]
  },
  {
   "cell_type": "code",
   "execution_count": null,
   "metadata": {},
   "outputs": [],
   "source": [
    "def vhelp(x):\n",
    "    # used to help with gamma to delta\n",
    "    # delta is always 1-gamma, except if gamma is 0 then we usually have an error (lol)\n",
    "    y = round(1-x,2)\n",
    "    if y >= 0.999:\n",
    "        return 0\n",
    "    else:\n",
    "        return y\n",
    "\n",
    "vfunc = np.vectorize(lambda x: vhelp(x))"
   ]
  },
  {
   "cell_type": "code",
   "execution_count": null,
   "metadata": {},
   "outputs": [],
   "source": [
    "ger_pop = 8*10e7  #german population\n",
    "ndim = 2\n",
    "\n",
    "# Multi-Parameter plots with cross-infection\n",
    "# See the Flatcurver Module for further description of parameters\n",
    "beta = np.array([[1, 3/10, 3], [1/10, 2/10, 1], [0, 0.2, 1]])  # contact rate: given by RKI, a patient is 10 days infectious and infects 2 people during this time\n",
    "gamma = np.diag([0.97/14, 0.96/14, 0.92/14])  #recovery rate: 0.97 percent survive while the average infection lasts for 14 days\n",
    "delta = vfunc(gamma)\n",
    "\n",
    "\n",
    "N = np.array([0.6*ger_pop, 0.2 * ger_pop, 0.2*ger_pop])"
   ]
  },
  {
   "cell_type": "code",
   "execution_count": null,
   "metadata": {},
   "outputs": [],
   "source": [
    "multi_pan = pan.PandemicSimulatorMulti(beta=beta, gamma=gamma, delta=delta, N=N, timesteps=120)"
   ]
  },
  {
   "cell_type": "code",
   "execution_count": null,
   "metadata": {},
   "outputs": [],
   "source": [
    "multi_pan.set_y0([N[0]-1, N[1], N[2], 1, 0, 0, 0, 0,0, 0, 0,0])"
   ]
  },
  {
   "cell_type": "code",
   "execution_count": null,
   "metadata": {},
   "outputs": [],
   "source": [
    "sol = multi_pan.simulate_SEIR()"
   ]
  },
  {
   "cell_type": "code",
   "execution_count": null,
   "metadata": {},
   "outputs": [],
   "source": [
    "multi_pan.names"
   ]
  },
  {
   "cell_type": "code",
   "execution_count": null,
   "metadata": {
    "scrolled": false
   },
   "outputs": [],
   "source": [
    "multi_pan.simulate_and_show_results()"
   ]
  },
  {
   "cell_type": "code",
   "execution_count": null,
   "metadata": {},
   "outputs": [],
   "source": [
    "col_names = ['A', 'B', 'C']"
   ]
  },
  {
   "cell_type": "code",
   "execution_count": null,
   "metadata": {},
   "outputs": [],
   "source": [
    "def deriv_multi(t, y):\n",
    "    S, E, I, R = [y[self.ndim*i:self.ndim*(i+1)] for i in range(4)]\n",
    "    dSdt = -1*np.dot(self.beta, I/self.N)*S\n",
    "    dEdt = np.dot(self.delta, I)\n",
    "    dRdt = np.dot(self.gamma, I)\n",
    "    dIdt = 1/self.N*np.dot(self.beta, I)*S-dEdt-dRdt\n",
    "    return [*dSdt, *dEdt, *dIdt, *dRdt]"
   ]
  },
  {
   "cell_type": "code",
   "execution_count": null,
   "metadata": {},
   "outputs": [],
   "source": [
    "conditions = ['Susceptible', 'Dead', 'Infectious', 'Recovered']"
   ]
  },
  {
   "cell_type": "code",
   "execution_count": null,
   "metadata": {},
   "outputs": [],
   "source": [
    "df = pd.DataFrame(sol.y.T, columns=[f'{cond}_{el}' for cond in conditions for el in col_names])"
   ]
  },
  {
   "cell_type": "code",
   "execution_count": null,
   "metadata": {},
   "outputs": [],
   "source": [
    "df"
   ]
  },
  {
   "cell_type": "code",
   "execution_count": null,
   "metadata": {
    "scrolled": true
   },
   "outputs": [],
   "source": [
    "sol.y"
   ]
  },
  {
   "cell_type": "markdown",
   "metadata": {},
   "source": [
    "#### AB HIER SIMULATION DEUTSCHLAND"
   ]
  },
  {
   "cell_type": "code",
   "execution_count": null,
   "metadata": {},
   "outputs": [],
   "source": [
    "#beta = np.random.rand(16,16)\n",
    "# make beta symmetric\n",
    "#beta = 1/2*beta + 1/2*beta.T "
   ]
  },
  {
   "cell_type": "code",
   "execution_count": null,
   "metadata": {},
   "outputs": [],
   "source": [
    "einwohner = pd.read_csv('../../data/einwohner_bundeslaender.csv', sep='\\t')"
   ]
  },
  {
   "cell_type": "code",
   "execution_count": null,
   "metadata": {},
   "outputs": [],
   "source": [
    "ger_pop = 8*10e7  #german population\n",
    "ndim = 2\n",
    "#beta = np.random.rand(16,16)  # contact rate: given by RKI, a patient is 10 days infectious and infects 2 people during this time\n",
    "beta = np.full((16,16),0.2)\n",
    "gamma = np.diag([round(x,2) for x in list(np.random.rand(16)/20 + 0.95)])  #recovery rate: 0.97 percent survive while the average infection lasts for 14 days\n",
    "delta = vfunc(gamma)\n",
    "#delta = np.diag(list(np.random.rand(16)/100 + 0.03))  #death rate: 1-gamma\n",
    "N = einwohner['Einwohner'].values\n",
    "blands = list(einwohner['Bundesland'].values)"
   ]
  },
  {
   "cell_type": "code",
   "execution_count": null,
   "metadata": {},
   "outputs": [],
   "source": [
    "#delta"
   ]
  },
  {
   "cell_type": "code",
   "execution_count": null,
   "metadata": {},
   "outputs": [],
   "source": [
    "multi_pan = pan.PandemicSimulatorMulti(beta=beta, gamma=gamma, delta=delta, N=N, timesteps=120,names=blands)"
   ]
  },
  {
   "cell_type": "code",
   "execution_count": null,
   "metadata": {},
   "outputs": [],
   "source": [
    "multi_pan.set_y0([*N, *list(np.random.randint(1,1000, 16)),*list([0]*16),*list([0]*16)])"
   ]
  },
  {
   "cell_type": "code",
   "execution_count": null,
   "metadata": {},
   "outputs": [],
   "source": [
    "## Ouch\n",
    "multi_pan.simulate_and_show_results()"
   ]
  },
  {
   "cell_type": "code",
   "execution_count": null,
   "metadata": {},
   "outputs": [],
   "source": [
    "isinstance(np.array([2]), (np.ndarray))"
   ]
  },
  {
   "cell_type": "code",
   "execution_count": null,
   "metadata": {
    "scrolled": false
   },
   "outputs": [],
   "source": [
    "sol = multi_pan.simulate_SEIR()"
   ]
  },
  {
   "cell_type": "code",
   "execution_count": null,
   "metadata": {},
   "outputs": [],
   "source": [
    "sol.y.shape"
   ]
  },
  {
   "cell_type": "code",
   "execution_count": null,
   "metadata": {},
   "outputs": [],
   "source": [
    "sol.y"
   ]
  },
  {
   "cell_type": "code",
   "execution_count": null,
   "metadata": {},
   "outputs": [],
   "source": [
    "plt.figure(figsize=(20,10))\n",
    "plt.plot(sol.t, sol.y.T[:,::4])"
   ]
  }
 ],
 "metadata": {
  "kernelspec": {
   "display_name": "Python 3",
   "language": "python",
   "name": "python3"
  },
  "language_info": {
   "codemirror_mode": {
    "name": "ipython",
    "version": 3
   },
   "file_extension": ".py",
   "mimetype": "text/x-python",
   "name": "python",
   "nbconvert_exporter": "python",
   "pygments_lexer": "ipython3",
   "version": "3.7.4"
  }
 },
 "nbformat": 4,
 "nbformat_minor": 2
}
